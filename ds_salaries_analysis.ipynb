{
 "cells": [
  {
   "cell_type": "markdown",
   "metadata": {},
   "source": [
    "### Visualisasi Data - Tableau\n",
    "\n",
    "Dashboard visualisasi data dilakukan menggunakan perangkat lunak Tableau, berikut merupakan link yang digunakan untuk mengakses data dashboard terkait project.\n",
    "\n",
    "https://public.tableau.com/shared/2Q2FN4BZT?:display_count=n&:origin=viz_share_link"
   ]
  },
  {
   "cell_type": "markdown",
   "metadata": {},
   "source": [
    "## BAB I Pendahuluan"
   ]
  },
  {
   "cell_type": "markdown",
   "metadata": {},
   "source": [
    "Nama  : Lukas Adiwijaya Djajakirana\n",
    "\n",
    "Program ini dibuat untuk melakukan analisis statistik dan membuat dashboard visualisasi data"
   ]
  },
  {
   "cell_type": "markdown",
   "metadata": {},
   "source": [
    "## BAB II Identifikasi Masalah"
   ]
  },
  {
   "cell_type": "markdown",
   "metadata": {},
   "source": [
    "### Topik Permasalahan"
   ]
  },
  {
   "cell_type": "markdown",
   "metadata": {},
   "source": [
    "Topik permasalahan yang terdapat saat ini adalah terkait dengan pekerjaan data scientist. Pekerjaan data scientist memiliki tugas untuk mengolah data, membangun model prediktif, membuat AI, dan mengambil keputusan berdasarkan model/data yang telah ada, saat ini data scientist merupakan pekerjaan yang dibutuhkan oleh banyak perusahaan. Sehingga muncul pertanyaan, apakah pekerjaan data scientist merupakan pekerjaan yang menjanjikan, dan juga berapakah gaji seorang data scientist.\n",
    "\n",
    "Pada permasalahan ini akan diambil gaji pekerjaan data scientist sebagai topik permasalahan yang utama, untuk itu akan dilakukan analisis lebih lanjut terkait dengan gaji data scientist."
   ]
  },
  {
   "cell_type": "markdown",
   "metadata": {},
   "source": [
    "### *Problem Statement*"
   ]
  },
  {
   "cell_type": "markdown",
   "metadata": {},
   "source": [
    "Berkaitan dengan topik permasalahan yang telah dibahas, yaitu terkait dengan Gaji Data Scientist, terdapat persoalan yang lebih mendalam yang perlu dijawab, oleh karena itu akan digunakan problem statement untuk menentukan persoalan/*problem* yang akan dijabarkan lebih mendetail. *Problem Statement* yang digunakan pada kasus ini menggunakan metode SMART.\n",
    "\n",
    "Specific  : Menganalisis gaji pekerjaan data scientist\n",
    "\n",
    "Measurable : Menentukan potensi gaji pekerjaan data scientist\n",
    "\n",
    "Achivable  : Dengan menggunakan dataset data scientist salaries dari AI-Jobs\n",
    "\n",
    "Relevant : Informasi tentang data scientist relevan untuk perusahaan, calon pelamar kerja, dan industri secara keseluruhan\n",
    "\n",
    "Time-Bound  : Analisis diselesaikan dalam 6 hari ke depan\n",
    "\n",
    "Conclusion : Melakukan analisis gaji untuk mendapatkan potensi tingkatan gaji, berdasarkan data pada AI-Jobs yang berguna untuk calon data scientist, industri dan perusahaan dalam waktu 6 hari ke depan."
   ]
  },
  {
   "cell_type": "markdown",
   "metadata": {},
   "source": [
    "### Latar Belakang"
   ]
  },
  {
   "cell_type": "markdown",
   "metadata": {},
   "source": [
    "Perusahaan A merupakan perusahaan besar yang memegang banyak data, dan saat ini perusahaan tersebut ingin melebarkan sayapnya di luar negeri. Perusahaan A membutuhkan orang yang dapat membuat *Machine Learning*, melakukan penyelidikan data, dan mengambil kesimpulan dari data tersebut, yang menunjukkan bahwa perusahaan A membutuhkan seorang data scientist, data analyst, data engineer dan machine learning engineer. Karena mereka tidak pernah memiliki pekerja yang berada di luar negeri, untuk itu perusahaan A ingin melakukan riset terhadap gaji pekerjaan-pekerjaan tersebut. Oleh karena itu saya ditugaskan untuk membantu perusahaan A mencari tahu tentang pekerjaan tersebut lebih lanjut di luar negeri."
   ]
  },
  {
   "cell_type": "markdown",
   "metadata": {},
   "source": [
    "### Penjabaran Masalah"
   ]
  },
  {
   "cell_type": "markdown",
   "metadata": {},
   "source": [
    "Penjabaran masalah dilakukan menggunakan metode 5W+1H, berikut merupakan penjabarannya:\n",
    "\n",
    "- Negara manakah yang memiliki pekerjaan terbanyak?\n",
    "- Apakah ada perbedaan gaji berdasarkan lokasi perusahaan?\n",
    "- Bagaimana pengalaman pekerjaan mempengaruhi gaji?\n",
    "- Apakah ukuran perusahaan mempengaruhi gaji?\n",
    "- Bagaimanakah statistik gaji tiap jenis pekerjaan?\n",
    "- Apakah terdapat perbedaan terkait dengan gaji dan jenis pekerjaan?\n",
    "- Apakah remote work mempengaruhi gaji?\n",
    "- Berapa presentase remote work dalam lingkup pekerjaan ini?"
   ]
  },
  {
   "cell_type": "markdown",
   "metadata": {},
   "source": [
    "## BAB III Data Loading"
   ]
  },
  {
   "cell_type": "markdown",
   "metadata": {},
   "source": [
    "Data yang digunakan pada Milestone 1 ini diambil dari AI Jobs, dengan data bernama AI, ML, Data Scientist Salary Data, berikut merupakan link website yang digunakan:\n",
    "\n",
    "https://ai-jobs.net/salaries/download/"
   ]
  },
  {
   "cell_type": "code",
   "execution_count": 3,
   "metadata": {},
   "outputs": [],
   "source": [
    "# Melakukan import library yang akan digunakan untuk perhitungan dan analisis data\n",
    "import pandas as pd\n",
    "import numpy as np\n",
    "from scipy import stats\n",
    "import matplotlib.pyplot as plt\n",
    "import seaborn as sns"
   ]
  },
  {
   "cell_type": "code",
   "execution_count": 92,
   "metadata": {},
   "outputs": [
    {
     "data": {
      "text/html": [
       "<div>\n",
       "<style scoped>\n",
       "    .dataframe tbody tr th:only-of-type {\n",
       "        vertical-align: middle;\n",
       "    }\n",
       "\n",
       "    .dataframe tbody tr th {\n",
       "        vertical-align: top;\n",
       "    }\n",
       "\n",
       "    .dataframe thead th {\n",
       "        text-align: right;\n",
       "    }\n",
       "</style>\n",
       "<table border=\"1\" class=\"dataframe\">\n",
       "  <thead>\n",
       "    <tr style=\"text-align: right;\">\n",
       "      <th></th>\n",
       "      <th>work_year</th>\n",
       "      <th>experience_level</th>\n",
       "      <th>employment_type</th>\n",
       "      <th>job_title</th>\n",
       "      <th>salary</th>\n",
       "      <th>salary_currency</th>\n",
       "      <th>salary_in_usd</th>\n",
       "      <th>employee_residence</th>\n",
       "      <th>remote_ratio</th>\n",
       "      <th>company_location</th>\n",
       "      <th>company_size</th>\n",
       "    </tr>\n",
       "  </thead>\n",
       "  <tbody>\n",
       "    <tr>\n",
       "      <th>0</th>\n",
       "      <td>2024</td>\n",
       "      <td>MI</td>\n",
       "      <td>FT</td>\n",
       "      <td>Data Scientist</td>\n",
       "      <td>187200</td>\n",
       "      <td>USD</td>\n",
       "      <td>187200</td>\n",
       "      <td>CA</td>\n",
       "      <td>0</td>\n",
       "      <td>CA</td>\n",
       "      <td>M</td>\n",
       "    </tr>\n",
       "    <tr>\n",
       "      <th>1</th>\n",
       "      <td>2024</td>\n",
       "      <td>MI</td>\n",
       "      <td>FT</td>\n",
       "      <td>Data Scientist</td>\n",
       "      <td>100800</td>\n",
       "      <td>USD</td>\n",
       "      <td>100800</td>\n",
       "      <td>CA</td>\n",
       "      <td>0</td>\n",
       "      <td>CA</td>\n",
       "      <td>M</td>\n",
       "    </tr>\n",
       "    <tr>\n",
       "      <th>2</th>\n",
       "      <td>2024</td>\n",
       "      <td>SE</td>\n",
       "      <td>FT</td>\n",
       "      <td>Data Engineer</td>\n",
       "      <td>153200</td>\n",
       "      <td>USD</td>\n",
       "      <td>153200</td>\n",
       "      <td>US</td>\n",
       "      <td>100</td>\n",
       "      <td>US</td>\n",
       "      <td>M</td>\n",
       "    </tr>\n",
       "    <tr>\n",
       "      <th>3</th>\n",
       "      <td>2024</td>\n",
       "      <td>SE</td>\n",
       "      <td>FT</td>\n",
       "      <td>Data Engineer</td>\n",
       "      <td>102200</td>\n",
       "      <td>USD</td>\n",
       "      <td>102200</td>\n",
       "      <td>US</td>\n",
       "      <td>100</td>\n",
       "      <td>US</td>\n",
       "      <td>M</td>\n",
       "    </tr>\n",
       "    <tr>\n",
       "      <th>4</th>\n",
       "      <td>2024</td>\n",
       "      <td>SE</td>\n",
       "      <td>FT</td>\n",
       "      <td>Robotics Software Engineer</td>\n",
       "      <td>240000</td>\n",
       "      <td>USD</td>\n",
       "      <td>240000</td>\n",
       "      <td>US</td>\n",
       "      <td>0</td>\n",
       "      <td>US</td>\n",
       "      <td>M</td>\n",
       "    </tr>\n",
       "    <tr>\n",
       "      <th>...</th>\n",
       "      <td>...</td>\n",
       "      <td>...</td>\n",
       "      <td>...</td>\n",
       "      <td>...</td>\n",
       "      <td>...</td>\n",
       "      <td>...</td>\n",
       "      <td>...</td>\n",
       "      <td>...</td>\n",
       "      <td>...</td>\n",
       "      <td>...</td>\n",
       "      <td>...</td>\n",
       "    </tr>\n",
       "    <tr>\n",
       "      <th>13800</th>\n",
       "      <td>2020</td>\n",
       "      <td>SE</td>\n",
       "      <td>FT</td>\n",
       "      <td>Data Scientist</td>\n",
       "      <td>412000</td>\n",
       "      <td>USD</td>\n",
       "      <td>412000</td>\n",
       "      <td>US</td>\n",
       "      <td>100</td>\n",
       "      <td>US</td>\n",
       "      <td>L</td>\n",
       "    </tr>\n",
       "    <tr>\n",
       "      <th>13801</th>\n",
       "      <td>2021</td>\n",
       "      <td>MI</td>\n",
       "      <td>FT</td>\n",
       "      <td>Principal Data Scientist</td>\n",
       "      <td>151000</td>\n",
       "      <td>USD</td>\n",
       "      <td>151000</td>\n",
       "      <td>US</td>\n",
       "      <td>100</td>\n",
       "      <td>US</td>\n",
       "      <td>L</td>\n",
       "    </tr>\n",
       "    <tr>\n",
       "      <th>13802</th>\n",
       "      <td>2020</td>\n",
       "      <td>EN</td>\n",
       "      <td>FT</td>\n",
       "      <td>Data Scientist</td>\n",
       "      <td>105000</td>\n",
       "      <td>USD</td>\n",
       "      <td>105000</td>\n",
       "      <td>US</td>\n",
       "      <td>100</td>\n",
       "      <td>US</td>\n",
       "      <td>S</td>\n",
       "    </tr>\n",
       "    <tr>\n",
       "      <th>13803</th>\n",
       "      <td>2020</td>\n",
       "      <td>EN</td>\n",
       "      <td>CT</td>\n",
       "      <td>Business Data Analyst</td>\n",
       "      <td>100000</td>\n",
       "      <td>USD</td>\n",
       "      <td>100000</td>\n",
       "      <td>US</td>\n",
       "      <td>100</td>\n",
       "      <td>US</td>\n",
       "      <td>L</td>\n",
       "    </tr>\n",
       "    <tr>\n",
       "      <th>13804</th>\n",
       "      <td>2021</td>\n",
       "      <td>SE</td>\n",
       "      <td>FT</td>\n",
       "      <td>Data Science Manager</td>\n",
       "      <td>7000000</td>\n",
       "      <td>INR</td>\n",
       "      <td>94665</td>\n",
       "      <td>IN</td>\n",
       "      <td>50</td>\n",
       "      <td>IN</td>\n",
       "      <td>L</td>\n",
       "    </tr>\n",
       "  </tbody>\n",
       "</table>\n",
       "<p>13805 rows × 11 columns</p>\n",
       "</div>"
      ],
      "text/plain": [
       "       work_year experience_level employment_type                   job_title  \\\n",
       "0           2024               MI              FT              Data Scientist   \n",
       "1           2024               MI              FT              Data Scientist   \n",
       "2           2024               SE              FT               Data Engineer   \n",
       "3           2024               SE              FT               Data Engineer   \n",
       "4           2024               SE              FT  Robotics Software Engineer   \n",
       "...          ...              ...             ...                         ...   \n",
       "13800       2020               SE              FT              Data Scientist   \n",
       "13801       2021               MI              FT    Principal Data Scientist   \n",
       "13802       2020               EN              FT              Data Scientist   \n",
       "13803       2020               EN              CT       Business Data Analyst   \n",
       "13804       2021               SE              FT        Data Science Manager   \n",
       "\n",
       "        salary salary_currency  salary_in_usd employee_residence  \\\n",
       "0       187200             USD         187200                 CA   \n",
       "1       100800             USD         100800                 CA   \n",
       "2       153200             USD         153200                 US   \n",
       "3       102200             USD         102200                 US   \n",
       "4       240000             USD         240000                 US   \n",
       "...        ...             ...            ...                ...   \n",
       "13800   412000             USD         412000                 US   \n",
       "13801   151000             USD         151000                 US   \n",
       "13802   105000             USD         105000                 US   \n",
       "13803   100000             USD         100000                 US   \n",
       "13804  7000000             INR          94665                 IN   \n",
       "\n",
       "       remote_ratio company_location company_size  \n",
       "0                 0               CA            M  \n",
       "1                 0               CA            M  \n",
       "2               100               US            M  \n",
       "3               100               US            M  \n",
       "4                 0               US            M  \n",
       "...             ...              ...          ...  \n",
       "13800           100               US            L  \n",
       "13801           100               US            L  \n",
       "13802           100               US            S  \n",
       "13803           100               US            L  \n",
       "13804            50               IN            L  \n",
       "\n",
       "[13805 rows x 11 columns]"
      ]
     },
     "execution_count": 92,
     "metadata": {},
     "output_type": "execute_result"
    }
   ],
   "source": [
    "# Melakukan pembacaan file csv yang digunakan untuk analisis data\n",
    "df = pd.read_csv('salaries.csv')\n",
    "df"
   ]
  },
  {
   "cell_type": "markdown",
   "metadata": {},
   "source": [
    "Dari tabel didapatkan bahwa terdapat 13805 data, dengan 11 kolom yang berisikan work year, experience level, employment type, job title, salary, salary currency, sallary in USD, employee residence, remote ratio, company location dan company size."
   ]
  },
  {
   "cell_type": "markdown",
   "metadata": {},
   "source": [
    "## BAB IV Data Cleaning"
   ]
  },
  {
   "cell_type": "code",
   "execution_count": 93,
   "metadata": {},
   "outputs": [
    {
     "name": "stdout",
     "output_type": "stream",
     "text": [
      "Job title count:  145\n"
     ]
    },
    {
     "data": {
      "text/plain": [
       "job_title\n",
       "Data Engineer                2987\n",
       "Data Scientist               2840\n",
       "Data Analyst                 2055\n",
       "Machine Learning Engineer    1452\n",
       "Research Scientist            433\n",
       "Name: count, dtype: int64"
      ]
     },
     "execution_count": 93,
     "metadata": {},
     "output_type": "execute_result"
    }
   ],
   "source": [
    "print('Job title count: ',len(df['job_title'].unique()))\n",
    "# Menghitung jumlah pekerjaan tiap jenis pekerjaan\n",
    "job_counts = df['job_title'].value_counts()\n",
    "job_counts.head()"
   ]
  },
  {
   "cell_type": "markdown",
   "metadata": {},
   "source": [
    "Setelah melakukan perhitungan terkait jenis pekerjaan, maka akan dilakukan filter berdasarkan 4 pekerjaan terbanyak yaitu, Data Engineer, Data Scientist, Data Analyst dan Machine Learning Engineer. Analisis gaji pekerjaan akan dilakukan berdasarkan 4 jenis pekerjaan tersebut."
   ]
  },
  {
   "cell_type": "code",
   "execution_count": 94,
   "metadata": {},
   "outputs": [
    {
     "name": "stdout",
     "output_type": "stream",
     "text": [
      "Jumlah data Data Engineer, Data Scientist, Data Analyst, dan Machine Learning Engineer 9334\n"
     ]
    },
    {
     "data": {
      "text/html": [
       "<div>\n",
       "<style scoped>\n",
       "    .dataframe tbody tr th:only-of-type {\n",
       "        vertical-align: middle;\n",
       "    }\n",
       "\n",
       "    .dataframe tbody tr th {\n",
       "        vertical-align: top;\n",
       "    }\n",
       "\n",
       "    .dataframe thead th {\n",
       "        text-align: right;\n",
       "    }\n",
       "</style>\n",
       "<table border=\"1\" class=\"dataframe\">\n",
       "  <thead>\n",
       "    <tr style=\"text-align: right;\">\n",
       "      <th></th>\n",
       "      <th>work_year</th>\n",
       "      <th>experience_level</th>\n",
       "      <th>employment_type</th>\n",
       "      <th>job_title</th>\n",
       "      <th>salary</th>\n",
       "      <th>salary_currency</th>\n",
       "      <th>salary_in_usd</th>\n",
       "      <th>employee_residence</th>\n",
       "      <th>remote_ratio</th>\n",
       "      <th>company_location</th>\n",
       "      <th>company_size</th>\n",
       "    </tr>\n",
       "  </thead>\n",
       "  <tbody>\n",
       "    <tr>\n",
       "      <th>0</th>\n",
       "      <td>2024</td>\n",
       "      <td>MI</td>\n",
       "      <td>FT</td>\n",
       "      <td>Data Scientist</td>\n",
       "      <td>187200</td>\n",
       "      <td>USD</td>\n",
       "      <td>187200</td>\n",
       "      <td>CA</td>\n",
       "      <td>0</td>\n",
       "      <td>CA</td>\n",
       "      <td>M</td>\n",
       "    </tr>\n",
       "    <tr>\n",
       "      <th>1</th>\n",
       "      <td>2024</td>\n",
       "      <td>MI</td>\n",
       "      <td>FT</td>\n",
       "      <td>Data Scientist</td>\n",
       "      <td>100800</td>\n",
       "      <td>USD</td>\n",
       "      <td>100800</td>\n",
       "      <td>CA</td>\n",
       "      <td>0</td>\n",
       "      <td>CA</td>\n",
       "      <td>M</td>\n",
       "    </tr>\n",
       "    <tr>\n",
       "      <th>2</th>\n",
       "      <td>2024</td>\n",
       "      <td>SE</td>\n",
       "      <td>FT</td>\n",
       "      <td>Data Engineer</td>\n",
       "      <td>153200</td>\n",
       "      <td>USD</td>\n",
       "      <td>153200</td>\n",
       "      <td>US</td>\n",
       "      <td>100</td>\n",
       "      <td>US</td>\n",
       "      <td>M</td>\n",
       "    </tr>\n",
       "    <tr>\n",
       "      <th>3</th>\n",
       "      <td>2024</td>\n",
       "      <td>SE</td>\n",
       "      <td>FT</td>\n",
       "      <td>Data Engineer</td>\n",
       "      <td>102200</td>\n",
       "      <td>USD</td>\n",
       "      <td>102200</td>\n",
       "      <td>US</td>\n",
       "      <td>100</td>\n",
       "      <td>US</td>\n",
       "      <td>M</td>\n",
       "    </tr>\n",
       "    <tr>\n",
       "      <th>4</th>\n",
       "      <td>2024</td>\n",
       "      <td>MI</td>\n",
       "      <td>FT</td>\n",
       "      <td>Data Analyst</td>\n",
       "      <td>105000</td>\n",
       "      <td>USD</td>\n",
       "      <td>105000</td>\n",
       "      <td>US</td>\n",
       "      <td>0</td>\n",
       "      <td>US</td>\n",
       "      <td>M</td>\n",
       "    </tr>\n",
       "    <tr>\n",
       "      <th>...</th>\n",
       "      <td>...</td>\n",
       "      <td>...</td>\n",
       "      <td>...</td>\n",
       "      <td>...</td>\n",
       "      <td>...</td>\n",
       "      <td>...</td>\n",
       "      <td>...</td>\n",
       "      <td>...</td>\n",
       "      <td>...</td>\n",
       "      <td>...</td>\n",
       "      <td>...</td>\n",
       "    </tr>\n",
       "    <tr>\n",
       "      <th>9329</th>\n",
       "      <td>2020</td>\n",
       "      <td>SE</td>\n",
       "      <td>FT</td>\n",
       "      <td>Machine Learning Engineer</td>\n",
       "      <td>40000</td>\n",
       "      <td>EUR</td>\n",
       "      <td>45618</td>\n",
       "      <td>HR</td>\n",
       "      <td>100</td>\n",
       "      <td>HR</td>\n",
       "      <td>S</td>\n",
       "    </tr>\n",
       "    <tr>\n",
       "      <th>9330</th>\n",
       "      <td>2021</td>\n",
       "      <td>MI</td>\n",
       "      <td>FT</td>\n",
       "      <td>Data Scientist</td>\n",
       "      <td>160000</td>\n",
       "      <td>SGD</td>\n",
       "      <td>119059</td>\n",
       "      <td>SG</td>\n",
       "      <td>100</td>\n",
       "      <td>IL</td>\n",
       "      <td>M</td>\n",
       "    </tr>\n",
       "    <tr>\n",
       "      <th>9331</th>\n",
       "      <td>2021</td>\n",
       "      <td>MI</td>\n",
       "      <td>FT</td>\n",
       "      <td>Data Engineer</td>\n",
       "      <td>24000</td>\n",
       "      <td>EUR</td>\n",
       "      <td>28369</td>\n",
       "      <td>MT</td>\n",
       "      <td>50</td>\n",
       "      <td>MT</td>\n",
       "      <td>L</td>\n",
       "    </tr>\n",
       "    <tr>\n",
       "      <th>9332</th>\n",
       "      <td>2020</td>\n",
       "      <td>SE</td>\n",
       "      <td>FT</td>\n",
       "      <td>Data Scientist</td>\n",
       "      <td>412000</td>\n",
       "      <td>USD</td>\n",
       "      <td>412000</td>\n",
       "      <td>US</td>\n",
       "      <td>100</td>\n",
       "      <td>US</td>\n",
       "      <td>L</td>\n",
       "    </tr>\n",
       "    <tr>\n",
       "      <th>9333</th>\n",
       "      <td>2020</td>\n",
       "      <td>EN</td>\n",
       "      <td>FT</td>\n",
       "      <td>Data Scientist</td>\n",
       "      <td>105000</td>\n",
       "      <td>USD</td>\n",
       "      <td>105000</td>\n",
       "      <td>US</td>\n",
       "      <td>100</td>\n",
       "      <td>US</td>\n",
       "      <td>S</td>\n",
       "    </tr>\n",
       "  </tbody>\n",
       "</table>\n",
       "<p>9334 rows × 11 columns</p>\n",
       "</div>"
      ],
      "text/plain": [
       "      work_year experience_level employment_type                  job_title  \\\n",
       "0          2024               MI              FT             Data Scientist   \n",
       "1          2024               MI              FT             Data Scientist   \n",
       "2          2024               SE              FT              Data Engineer   \n",
       "3          2024               SE              FT              Data Engineer   \n",
       "4          2024               MI              FT               Data Analyst   \n",
       "...         ...              ...             ...                        ...   \n",
       "9329       2020               SE              FT  Machine Learning Engineer   \n",
       "9330       2021               MI              FT             Data Scientist   \n",
       "9331       2021               MI              FT              Data Engineer   \n",
       "9332       2020               SE              FT             Data Scientist   \n",
       "9333       2020               EN              FT             Data Scientist   \n",
       "\n",
       "      salary salary_currency  salary_in_usd employee_residence  remote_ratio  \\\n",
       "0     187200             USD         187200                 CA             0   \n",
       "1     100800             USD         100800                 CA             0   \n",
       "2     153200             USD         153200                 US           100   \n",
       "3     102200             USD         102200                 US           100   \n",
       "4     105000             USD         105000                 US             0   \n",
       "...      ...             ...            ...                ...           ...   \n",
       "9329   40000             EUR          45618                 HR           100   \n",
       "9330  160000             SGD         119059                 SG           100   \n",
       "9331   24000             EUR          28369                 MT            50   \n",
       "9332  412000             USD         412000                 US           100   \n",
       "9333  105000             USD         105000                 US           100   \n",
       "\n",
       "     company_location company_size  \n",
       "0                  CA            M  \n",
       "1                  CA            M  \n",
       "2                  US            M  \n",
       "3                  US            M  \n",
       "4                  US            M  \n",
       "...               ...          ...  \n",
       "9329               HR            S  \n",
       "9330               IL            M  \n",
       "9331               MT            L  \n",
       "9332               US            L  \n",
       "9333               US            S  \n",
       "\n",
       "[9334 rows x 11 columns]"
      ]
     },
     "execution_count": 94,
     "metadata": {},
     "output_type": "execute_result"
    }
   ],
   "source": [
    "print('Jumlah data Data Engineer, Data Scientist, Data Analyst, dan Machine Learning Engineer',job_counts.head(4).sum())\n",
    "\n",
    "# Memfilter data pekerjaan\n",
    "df1 = df[df['job_title'].isin(job_counts.head(4).index)].reset_index(drop=True)\n",
    "df1"
   ]
  },
  {
   "cell_type": "markdown",
   "metadata": {},
   "source": [
    "Setelah dilakukan filter terhadap pekerjaan Data Engineer, Data Scientist, Data Analyst dan Machine Learning Engineer, didapatkan jumlah data sebanyak 9334 data."
   ]
  },
  {
   "cell_type": "code",
   "execution_count": 95,
   "metadata": {},
   "outputs": [
    {
     "name": "stdout",
     "output_type": "stream",
     "text": [
      "Data N/A:\n",
      "work_year             0\n",
      "experience_level      0\n",
      "employment_type       0\n",
      "job_title             0\n",
      "salary                0\n",
      "salary_currency       0\n",
      "salary_in_usd         0\n",
      "employee_residence    0\n",
      "remote_ratio          0\n",
      "company_location      0\n",
      "company_size          0\n",
      "dtype: int64\n",
      "\n",
      "Data Kosong:\n",
      "work_year             0\n",
      "experience_level      0\n",
      "employment_type       0\n",
      "job_title             0\n",
      "salary                0\n",
      "salary_currency       0\n",
      "salary_in_usd         0\n",
      "employee_residence    0\n",
      "remote_ratio          0\n",
      "company_location      0\n",
      "company_size          0\n",
      "dtype: int64\n"
     ]
    }
   ],
   "source": [
    "# Melakukan pengecekan terhadap data N/A dan data kosong\n",
    "print('Data N/A:\\n',df1.isna().sum(), sep='')\n",
    "\n",
    "print('\\nData Kosong:\\n',df1.isnull().sum(), sep='')\n",
    "\n",
    "# Melakukan penyimpanan data tabel yang data nya telah dibersihkan ke csv untuk melakukan analisis pada Tableau dan analisis lainnya\n",
    "df1.to_csv('ds_salaries.csv')"
   ]
  },
  {
   "cell_type": "markdown",
   "metadata": {},
   "source": [
    "Didapatkan bahwa dataframe tidak terdapat data kosong maupun data N/A"
   ]
  },
  {
   "cell_type": "markdown",
   "metadata": {},
   "source": [
    "## BAB V Analisis dan Perhitungan"
   ]
  },
  {
   "cell_type": "markdown",
   "metadata": {},
   "source": [
    "### Menentukan negara dengan pekerjaan terbanyak"
   ]
  },
  {
   "cell_type": "code",
   "execution_count": 4,
   "metadata": {},
   "outputs": [],
   "source": [
    "df_filtered = pd.read_csv('ds_salaries.csv')"
   ]
  },
  {
   "cell_type": "code",
   "execution_count": 5,
   "metadata": {},
   "outputs": [
    {
     "name": "stdout",
     "output_type": "stream",
     "text": [
      "company_location\n",
      "US    8222\n",
      "GB     418\n",
      "CA     231\n",
      "ES     104\n",
      "DE      48\n",
      "Name: count, dtype: int64\n"
     ]
    },
    {
     "data": {
      "text/plain": [
       "<Axes: xlabel='company_location'>"
      ]
     },
     "execution_count": 5,
     "metadata": {},
     "output_type": "execute_result"
    },
    {
     "data": {
      "image/png": "[encoded data removed]",
      "text/plain": [
       "<Figure size 640x480 with 1 Axes>"
      ]
     },
     "metadata": {},
     "output_type": "display_data"
    }
   ],
   "source": [
    "print(df_filtered['company_location'].value_counts().head())\n",
    "df_filtered['company_location'].value_counts().head().plot(kind='bar')"
   ]
  },
  {
   "cell_type": "markdown",
   "metadata": {},
   "source": [
    "Didapatkan bahwa negara Amerika Serikat memiliki jumlah pekerjaan terbanyak yaitu 8222 pekerja berdasarkan data, pada peringkat dua diduduki oleh Great Britain (GB) dengan jumlah pekerja sebanyak 418, selanjutnya terdapat Canada dengan jumlah pekerja sebanyak 231. Hal ini dapat disebabkan oleh pengambilan data yang mayoritasnya diambil dari negara Amerika Serikat."
   ]
  },
  {
   "cell_type": "markdown",
   "metadata": {},
   "source": [
    "### Menentukan pengaruh pengalaman kerja terhadap gaji"
   ]
  },
  {
   "cell_type": "code",
   "execution_count": 8,
   "metadata": {},
   "outputs": [
    {
     "name": "stderr",
     "output_type": "stream",
     "text": [
      "c:\\Users\\lukas_dtet3v6\\anaconda3\\Lib\\site-packages\\seaborn\\_oldcore.py:1119: FutureWarning: use_inf_as_na option is deprecated and will be removed in a future version. Convert inf values to NaN before operating instead.\n",
      "  with pd.option_context('mode.use_inf_as_na', True):\n",
      "c:\\Users\\lukas_dtet3v6\\anaconda3\\Lib\\site-packages\\seaborn\\_oldcore.py:1119: FutureWarning: use_inf_as_na option is deprecated and will be removed in a future version. Convert inf values to NaN before operating instead.\n",
      "  with pd.option_context('mode.use_inf_as_na', True):\n"
     ]
    },
    {
     "data": {
      "text/plain": [
       "[<matplotlib.axis.XTick at 0x1d98f7fdf10>,\n",
       " <matplotlib.axis.XTick at 0x1d98f7ebf90>,\n",
       " <matplotlib.axis.XTick at 0x1d98f7095d0>,\n",
       " <matplotlib.axis.XTick at 0x1d98f840b90>,\n",
       " <matplotlib.axis.XTick at 0x1d98f842cd0>]"
      ]
     },
     "execution_count": 8,
     "metadata": {},
     "output_type": "execute_result"
    },
    {
     "data": {
      "image/png": "[encoded data removed]",
      "text/plain": [
       "<Figure size 640x480 with 1 Axes>"
      ]
     },
     "metadata": {},
     "output_type": "display_data"
    }
   ],
   "source": [
    "mean_salary_df = df_filtered.groupby(['experience_level', 'work_year'])['salary_in_usd'].mean().reset_index()\n",
    "ax = sns.lineplot(data=mean_salary_df, x='work_year', y='salary_in_usd', hue='experience_level', marker='o')\n",
    "ax.set_xticks(range(2020, 2025, 1))"
   ]
  },
  {
   "cell_type": "markdown",
   "metadata": {},
   "source": [
    "Didapatkan bahwa pengalaman kerja dapat mempengaruhi gaji karyawan, semakin tinggi pengalaman kerja, maka gaji karyawan semakin tinggi, dari grafik didapatkan bahwa EN atau entry-level dengan pengalaman kerja yang minim, berada di bawah sedangkan EX atau executive level, mendapatkan gaji tertinggi diantara keempat data."
   ]
  },
  {
   "cell_type": "markdown",
   "metadata": {},
   "source": [
    "### Menentukan pengaruh ukuran perusahaan terhadap gaji karyawan"
   ]
  },
  {
   "cell_type": "code",
   "execution_count": 7,
   "metadata": {},
   "outputs": [
    {
     "data": {
      "text/plain": [
       "<Axes: xlabel='company_size', ylabel='salary_in_usd'>"
      ]
     },
     "execution_count": 7,
     "metadata": {},
     "output_type": "execute_result"
    },
    {
     "data": {
      "image/png": "[encoded data removed]",
      "text/plain": [
       "<Figure size 640x480 with 1 Axes>"
      ]
     },
     "metadata": {},
     "output_type": "display_data"
    }
   ],
   "source": [
    "size_salary_df = df_filtered.groupby(['company_size'])['salary_in_usd'].mean().reset_index()\n",
    "sns.barplot(data=size_salary_df, x='company_size', y='salary_in_usd')"
   ]
  },
  {
   "cell_type": "markdown",
   "metadata": {},
   "source": [
    "Didapatkan dari grafik bahwa perusahaan dengan ukuran karyawan sebanyak 50 hingga 250 orang memiliki gaji rata-rata karyawan yang tinggi, dibandingkan dengan perusahaan dengan jumlah karyawan lebih dari 250 orang dan perusahaan dengan jumlah karyawan yang kurang dari 50 orang. Gaji rata-rata terendah didapatkan oleh karyawan yang bekerja di perusahaan dengan jumlah karyawan yang kecil."
   ]
  },
  {
   "cell_type": "markdown",
   "metadata": {},
   "source": [
    "### Menentukan presentase remote work dalam lingkup pekerjaan"
   ]
  },
  {
   "cell_type": "code",
   "execution_count": 99,
   "metadata": {},
   "outputs": [
    {
     "data": {
      "image/png": "[encoded data removed]",
      "text/plain": [
       "<Figure size 800x800 with 1 Axes>"
      ]
     },
     "metadata": {},
     "output_type": "display_data"
    }
   ],
   "source": [
    "fig,ax1 = plt.subplots(figsize=(8,8))\n",
    "\n",
    "df_filtered['remote_ratio'].value_counts().plot(kind='pie', autopct='%.2f%%',ax=ax1)\n",
    "plt.show()"
   ]
  },
  {
   "cell_type": "markdown",
   "metadata": {},
   "source": [
    "Berdasarkan data diatas, didapatkan bahwa pekerjaan Data Scientist, Data Analyst, Data Engineer, dan Machine Learning Engineer, memiliki tingkat remote work sebesar 33.62% untuk pekerjaan yang merupakan full remote work, sedangkan tingkat karyawan yang bekerja partially remote/hybird sebesar 1.22%, dan sebagian besar pekerja melakukan pekerjaannya secara offline dengan presentase sebesar 65.16%."
   ]
  },
  {
   "cell_type": "markdown",
   "metadata": {},
   "source": [
    "### Menentukan statistik gaji berdasarkan pekerjaan"
   ]
  },
  {
   "cell_type": "code",
   "execution_count": 7,
   "metadata": {},
   "outputs": [
    {
     "name": "stdout",
     "output_type": "stream",
     "text": [
      "Statistics for Salaries in USD:\n",
      "\n",
      "Data Scientist \n",
      "Mean: 153950.26 \n",
      "Median: 150060.00 \n",
      "Std Dev: 61695.24 \n",
      "Skewness: 0.93 \n",
      "Kurtosis: 5.64 \n",
      "\n",
      "Data Engineer \n",
      "Mean: 146820.54 \n",
      "Median: 140000.00 \n",
      "Std Dev: 57838.11 \n",
      "Skewness: 0.98 \n",
      "Kurtosis: 4.42 \n",
      "\n",
      "Machine Learning Engineer \n",
      "Mean: 187186.94 \n",
      "Median: 184850.00 \n",
      "Std Dev: 65279.74 \n",
      "Skewness: 0.68 \n",
      "Kurtosis: 3.69 \n",
      "\n",
      "Data Analyst \n",
      "Mean: 108437.61 \n",
      "Median: 104000.00 \n",
      "Std Dev: 46920.33 \n",
      "Skewness: 3.32 \n",
      "Kurtosis: 38.00 \n",
      "\n"
     ]
    }
   ],
   "source": [
    "# Membuat filter terhadap masing-masing jenis pekerjaan\n",
    "ds_job = df_filtered[df_filtered['job_title'] == 'Data Scientist'].reset_index(drop=True)\n",
    "de_job = df_filtered[df_filtered['job_title'] == 'Data Engineer'].reset_index(drop=True)\n",
    "ml_job = df_filtered[df_filtered['job_title'] == 'Machine Learning Engineer'].reset_index(drop=True)\n",
    "da_job = df_filtered[df_filtered['job_title'] == 'Data Analyst'].reset_index(drop=True)\n",
    "\n",
    "ds_mean = ds_job['salary_in_usd'].mean()\n",
    "ds_median = ds_job['salary_in_usd'].median()\n",
    "ds_std = ds_job['salary_in_usd'].std()\n",
    "ds_skewness = ds_job['salary_in_usd'].skew()\n",
    "ds_kurtosis = ds_job['salary_in_usd'].kurtosis()\n",
    "\n",
    "de_mean = de_job['salary_in_usd'].mean()\n",
    "de_median = de_job['salary_in_usd'].median()\n",
    "de_std = de_job['salary_in_usd'].std()\n",
    "de_skewness = de_job['salary_in_usd'].skew()\n",
    "de_kurtosis = de_job['salary_in_usd'].kurtosis()\n",
    "\n",
    "ml_mean = ml_job['salary_in_usd'].mean()\n",
    "ml_median = ml_job['salary_in_usd'].median()\n",
    "ml_std = ml_job['salary_in_usd'].std()\n",
    "ml_skewness = ml_job['salary_in_usd'].skew()\n",
    "ml_kurtosis = ml_job['salary_in_usd'].kurtosis()\n",
    "\n",
    "da_mean = da_job['salary_in_usd'].mean()\n",
    "da_median = da_job['salary_in_usd'].median()\n",
    "da_std = da_job['salary_in_usd'].std()\n",
    "da_skewness = da_job['salary_in_usd'].skew()\n",
    "da_kurtosis = da_job['salary_in_usd'].kurtosis()\n",
    "\n",
    "# Menampilkan hasil perhitungan statistik\n",
    "print(\"Statistics for Salaries in USD:\\n\")\n",
    "print(f\"Data Scientist \\nMean: {ds_mean:.2f} \\nMedian: {ds_median:.2f} \\nStd Dev: {ds_std:.2f} \\nSkewness: {ds_skewness:.2f} \\nKurtosis: {ds_kurtosis:.2f} \\n\")\n",
    "print(f\"Data Engineer \\nMean: {de_mean:.2f} \\nMedian: {de_median:.2f} \\nStd Dev: {de_std:.2f} \\nSkewness: {de_skewness:.2f} \\nKurtosis: {de_kurtosis:.2f} \\n\")\n",
    "print(f\"Machine Learning Engineer \\nMean: {ml_mean:.2f} \\nMedian: {ml_median:.2f} \\nStd Dev: {ml_std:.2f} \\nSkewness: {ml_skewness:.2f} \\nKurtosis: {ml_kurtosis:.2f} \\n\")\n",
    "print(f\"Data Analyst \\nMean: {da_mean:.2f} \\nMedian: {da_median:.2f} \\nStd Dev: {da_std:.2f} \\nSkewness: {da_skewness:.2f} \\nKurtosis: {da_kurtosis:.2f} \\n\")\n"
   ]
  },
  {
   "cell_type": "markdown",
   "metadata": {},
   "source": [
    "Didapatkan statistik gaji masing-masing pekerjaan, dengan Data Analyst merupakan pekerjaan dengan rata-rata gaji terendah diantara pekerjaan lainnya, disusul oleh Data Engineer, kemudian Data Scientist dan pekerjaan dengan rata-rata gaji tertinggi yaitu Machine Learning Engineer. Terkait dengan distribusi gaji, tiap pekerjaan berdistribusi positive skewed, dengan Data Analyst memiliki skewness tertinggi, yang menandakan bahwa sebagian besar data analyst memiliki gaji berkisar dekat dengan mean dan median gaji."
   ]
  },
  {
   "cell_type": "markdown",
   "metadata": {},
   "source": [
    "### Menentukan Pengaruh Jenis Pekerjaan Terhadap Gaji Pekerjaan"
   ]
  },
  {
   "cell_type": "markdown",
   "metadata": {},
   "source": [
    "Pengaruh jenis pekerjaan terhadap gaji pekerjaan dilakukan menggunakan *Analysis of Variance* atau biasa disingkat menjadi ANOVA Test. Ada beberapa kriteria yang perlu dipenuhi sebelum melakukan testing, yaitu setiap group merupakan group independent, berdistribusi normal dan memiliki variansi yang mirip. Syarat-syarat tersebut telah dipenuhi, oleh karena itu selanjutnya dilakukan pengecekan pengaruh pekerjaan terhadap gaji. Digunakan confidence level sebesar 0.05\n",
    "\n",
    "H0: Tidak terdapat perbedaan gaji signifikan antar pekerjaan\n",
    "\n",
    "H1: Terdapat perbedaan gaji signifikan antar pekerjaan"
   ]
  },
  {
   "cell_type": "code",
   "execution_count": 101,
   "metadata": {},
   "outputs": [
    {
     "name": "stdout",
     "output_type": "stream",
     "text": [
      "P-value: 0.0\n"
     ]
    }
   ],
   "source": [
    "res = stats.f_oneway(ds_job['salary_in_usd'], de_job['salary_in_usd'], ml_job['salary_in_usd'], da_job['salary_in_usd'])\n",
    "print('P-value:',res.pvalue)"
   ]
  },
  {
   "cell_type": "markdown",
   "metadata": {},
   "source": [
    "Didapatkan P-Value hasil dari ANOVA Test sebesar 0.00 < 0.05 (critical value), yang menandakan bahwa hypothesis null ditolak, sehingga dapat disimpulkan bahwa terdapat perbedaan gaji yang signifikan diantara keempat pekerjaan tersebut."
   ]
  },
  {
   "cell_type": "markdown",
   "metadata": {},
   "source": [
    "### Menentukan Pengaruh Remote Work Terhadap Gaji Pekerjaan"
   ]
  },
  {
   "cell_type": "markdown",
   "metadata": {},
   "source": [
    "Pada perhitungan data sebelumnya, telah didapatkan bahwa distribusi gaji pekerjaan berdistribusi skewed positif, oleh karena itu, korelasi remote work akan ditentukan berdasarkan metode Spearman."
   ]
  },
  {
   "cell_type": "code",
   "execution_count": 102,
   "metadata": {},
   "outputs": [
    {
     "name": "stdout",
     "output_type": "stream",
     "text": [
      "rho-correlation: -0.04, p-value: 1.6864376811158864e-05\n"
     ]
    }
   ],
   "source": [
    "corr_rho, pval_s = stats.spearmanr(df1['remote_ratio'], df1['salary_in_usd'])\n",
    "print(f\"rho-correlation: {corr_rho:.2f}, p-value: {pval_s}\")"
   ]
  },
  {
   "cell_type": "code",
   "execution_count": 103,
   "metadata": {},
   "outputs": [
    {
     "data": {
      "text/plain": [
       "<seaborn.axisgrid.FacetGrid at 0x19aa78e5e50>"
      ]
     },
     "execution_count": 103,
     "metadata": {},
     "output_type": "execute_result"
    },
    {
     "data": {
      "image/png": "[encoded data removed]",
      "text/plain": [
       "<Figure size 500x500 with 1 Axes>"
      ]
     },
     "metadata": {},
     "output_type": "display_data"
    }
   ],
   "source": [
    "sns.lmplot(data=df_filtered,x='remote_ratio', y='salary_in_usd')"
   ]
  },
  {
   "cell_type": "markdown",
   "metadata": {},
   "source": [
    "Didapatkan nilai rho-correlation sebesar -0.04 yang menandakan bahwa  keterkaitan antara remote work terhadap gaji pekerjaan sangat rendah dan arti (-) dalam hal ini menandakan bahwa semakin tinggi remote ratio nya maka semakin rendah gaji yang diterima. Sedangkan pada P-Value didapatkan nilai 1.69e-5 yang berarti P-Value < 0.05 (critical value), yang menunjukkan bahwa hypothesis null ditolak. Sehingga pekerjaan yang dilakukan secara Work From Home dapat mempengaruhi gaji pekerjaan walaupun pengaruh tersebut sangat rendah."
   ]
  },
  {
   "cell_type": "markdown",
   "metadata": {},
   "source": [
    "## BAB VI Kesimpulan"
   ]
  },
  {
   "cell_type": "markdown",
   "metadata": {},
   "source": [
    "Berdasarkan analisis gaji yang telah dilakukan, berikut adalah kesimpulan terkait potensi tingkatan gaji untuk calon data scientist, industri, dan perusahaan dalam enam hari ke depan:\n",
    "\n",
    "- Pekerjaan dengan Gaji Tertinggi:\n",
    "Machine Learning Engineer merupakan pekerjaan yang memiliki rata-rata gaji tertinggi di antara pekerjaan lainnya. Jika Anda memiliki keterampilan dalam bidang ini, peluang mendapatkan gaji yang baik sangat besar.\n",
    "- Lokasi Pekerjaan:\n",
    "Pekerjaan data scientist terbanyak terdapat di Amerika Serikat. Negara ini memiliki pasar kerja yang luas dan berkembang pesat dalam bidang data science.\n",
    "- Pengalaman Kerja:\n",
    "Pengalaman kerja merupakan salah satu faktor yang dapat meningkatkan gaji pekerja. Semakin lama pengalaman kerja, semakin tinggi potensi gaji yang dapat diterima.\n",
    "- Remote Work:\n",
    "Presentase full-time remote work pada bidang ini sebesar 33.62%. Meskipun korelasi antara remote work dan gaji sangat minim, perusahaan yang menawarkan fleksibilitas kerja ini dapat menarik calon karyawan.\n",
    "- Ukuran Perusahaan:\n",
    "Perusahaan dengan karyawan 50 hingga 250 orang merupakan perusahaan dengan gaji karyawan rata-rata tertinggi. Ukuran perusahaan mempengaruhi struktur gaji dan kesempatan karir."
   ]
  },
  {
   "cell_type": "markdown",
   "metadata": {},
   "source": [
    "### Visualisasi Data - Tableau"
   ]
  },
  {
   "cell_type": "markdown",
   "metadata": {},
   "source": [
    "Dashboard visualisasi data dilakukan menggunakan perangkat lunak Tableau, berikut merupakan link yang digunakan untuk mengakses data dashboard yang dipakai pada Milestone 1 ini.\n",
    "\n",
    "https://public.tableau.com/shared/7Y7SCQ2T4?:display_count=n&:origin=viz_share_link"
   ]
  }
 ],
 "metadata": {
  "kernelspec": {
   "display_name": "base",
   "language": "python",
   "name": "python3"
  },
  "language_info": {
   "codemirror_mode": {
    "name": "ipython",
    "version": 3
   },
   "file_extension": ".py",
   "mimetype": "text/x-python",
   "name": "python",
   "nbconvert_exporter": "python",
   "pygments_lexer": "ipython3",
   "version": "3.11.7"
  }
 },
 "nbformat": 4,
 "nbformat_minor": 2
}
